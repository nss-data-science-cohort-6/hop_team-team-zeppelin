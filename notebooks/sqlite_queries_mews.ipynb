{
 "cells": [
  {
   "cell_type": "markdown",
   "id": "906ec275",
   "metadata": {},
   "source": [
    "## Import libraries"
   ]
  },
  {
   "cell_type": "code",
   "execution_count": 1,
   "id": "bde7bb2c",
   "metadata": {},
   "outputs": [],
   "source": [
    "import sqlite3\n",
    "import pandas as pd\n",
    "import numpy as np"
   ]
  },
  {
   "cell_type": "markdown",
   "id": "6aebe05c",
   "metadata": {},
   "source": [
    "## Create indices"
   ]
  },
  {
   "cell_type": "code",
   "execution_count": 4,
   "id": "eb98bf41",
   "metadata": {},
   "outputs": [
    {
     "ename": "OperationalError",
     "evalue": "index from_npi already exists",
     "output_type": "error",
     "traceback": [
      "\u001b[1;31m---------------------------------------------------------------------------\u001b[0m",
      "\u001b[1;31mOperationalError\u001b[0m                          Traceback (most recent call last)",
      "Input \u001b[1;32mIn [4]\u001b[0m, in \u001b[0;36m<cell line: 4>\u001b[1;34m()\u001b[0m\n\u001b[0;32m      1\u001b[0m db \u001b[38;5;241m=\u001b[39m sqlite3\u001b[38;5;241m.\u001b[39mconnect(\u001b[38;5;124m'\u001b[39m\u001b[38;5;124m../data/hop_team_db.sqlite\u001b[39m\u001b[38;5;124m'\u001b[39m)\n\u001b[0;32m      3\u001b[0m \u001b[38;5;66;03m# referrals table\u001b[39;00m\n\u001b[1;32m----> 4\u001b[0m \u001b[43mdb\u001b[49m\u001b[38;5;241;43m.\u001b[39;49m\u001b[43mexecute\u001b[49m\u001b[43m(\u001b[49m\u001b[38;5;124;43m'\u001b[39;49m\u001b[38;5;124;43mCREATE INDEX from_npi ON referrals(from_npi)\u001b[39;49m\u001b[38;5;124;43m'\u001b[39;49m\u001b[43m)\u001b[49m\n\u001b[0;32m      5\u001b[0m db\u001b[38;5;241m.\u001b[39mexecute(\u001b[38;5;124m'\u001b[39m\u001b[38;5;124mCREATE INDEX to_npi ON referrals(to_npi)\u001b[39m\u001b[38;5;124m'\u001b[39m)\n\u001b[0;32m      7\u001b[0m \u001b[38;5;66;03m# provider table\u001b[39;00m\n",
      "\u001b[1;31mOperationalError\u001b[0m: index from_npi already exists"
     ]
    }
   ],
   "source": [
    "db = sqlite3.connect('../data/hop_team_db.sqlite')\n",
    "\n",
    "# referrals table\n",
    "db.execute('CREATE INDEX from_npi ON referrals(from_npi)')\n",
    "db.execute('CREATE INDEX to_npi ON referrals(to_npi)')\n",
    "\n",
    "# provider table\n",
    "db.execute('CREATE INDEX taxonomy_code ON provider(taxonomy_code)')\n",
    "db.execute('CREATE INDEX npi ON provider(npi)')\n",
    "db.execute('CREATE INDEX entity_type_code ON provider(entity_type_code)')\n",
    "db.execute('CREATE INDEX organization_name ON provider(organization_name)')\n",
    "db.execute('CREATE INDEX mailing_address_city_name ON provider(mailing_address_city_name)')\n",
    "db.execute('CREATE INDEX mailing_address_state_name ON provider(mailing_address_state_name)')\n",
    "\n",
    "db.close()"
   ]
  },
  {
   "cell_type": "code",
   "execution_count": 3,
   "id": "5ae224ce",
   "metadata": {},
   "outputs": [],
   "source": []
  },
  {
   "cell_type": "code",
   "execution_count": null,
   "id": "a697526e",
   "metadata": {},
   "outputs": [],
   "source": []
  }
 ],
 "metadata": {
  "kernelspec": {
   "display_name": "Python 3 (ipykernel)",
   "language": "python",
   "name": "python3"
  },
  "language_info": {
   "codemirror_mode": {
    "name": "ipython",
    "version": 3
   },
   "file_extension": ".py",
   "mimetype": "text/x-python",
   "name": "python",
   "nbconvert_exporter": "python",
   "pygments_lexer": "ipython3",
   "version": "3.9.12"
  }
 },
 "nbformat": 4,
 "nbformat_minor": 5
}
