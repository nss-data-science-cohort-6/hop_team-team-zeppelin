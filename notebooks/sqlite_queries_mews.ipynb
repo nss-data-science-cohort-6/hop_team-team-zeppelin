{
 "cells": [
  {
   "cell_type": "code",
   "execution_count": null,
   "id": "1853596a",
   "metadata": {},
   "outputs": [],
   "source": [
    "import sqlite3\n",
    "import pandas as pd\n",
    "import numpy as np"
   ]
  },
  {
   "cell_type": "markdown",
   "id": "26cdacd9",
   "metadata": {},
   "source": [
    "Build a profile of providers referring patients to the major hospitals in Nashville. Are certain specialties more likely to refer to a particular hospital over the others?"
   ]
  },
  {
   "cell_type": "code",
   "execution_count": null,
   "id": "abca8440",
   "metadata": {},
   "outputs": [],
   "source": [
    "query = \"\"\"\n",
    "SELECT npi, organization_name,  \n",
    "FROM provider\n",
    "LEFT JOIN taxonomy\n",
    "USING(taxonomy_code)\n",
    "WHERE entity_type_code = 2\n",
    "AND mailing_address_city_name = 'NASHVILLE'\n",
    "AND classification = 'General Acute Care Hospital'\n",
    "\"\"\"\n",
    "\n",
    "with sqlite3.connect('../data/hop_team_db.sqlite') as db: \n",
    "    nash_hosp = pd.read_sql(query, db)\n",
    "    \n",
    "db.close()"
   ]
  },
  {
   "cell_type": "code",
   "execution_count": null,
   "id": "be669fc1",
   "metadata": {},
   "outputs": [],
   "source": [
    "nash_hosp['organization_name'].value_counts().tail(42)"
   ]
  },
  {
   "cell_type": "code",
   "execution_count": null,
   "id": "0365293f",
   "metadata": {},
   "outputs": [],
   "source": [
    "query = \"\"\"\n",
    "WITH nash_hosp AS (\n",
    "    SELECT npi AS hosp_npi, organization_name AS hospital\n",
    "    FROM provider\n",
    "    LEFT JOIN taxonomy\n",
    "    USING(taxonomy_code)\n",
    "    WHERE entity_type_code = 2\n",
    "    AND mailing_address_city_name = 'NASHVILLE'\n",
    "    AND classification = 'General Acute Care Hospital'\n",
    ")\n",
    "SELECT from_npi, display_name, transaction_count, hospital\n",
    "FROM referrals\n",
    "INNER JOIN provider\n",
    "ON from_npi = npi\n",
    "INNER JOIN nash_hosp\n",
    "ON to_npi = hosp_npi\n",
    "LEFT JOIN taxonomy\n",
    "USING(taxonomy_code)\n",
    "WHERE transaction_count >= 50\n",
    "AND average_day_wait > 50\n",
    "\"\"\"\n",
    "\n",
    "with sqlite3.connect('../data/hop_team_db.sqlite') as db: \n",
    "    nash_hosp_referers = pd.read_sql(query, db)\n",
    "    \n",
    "db.close()"
   ]
  },
  {
   "cell_type": "code",
   "execution_count": null,
   "id": "613c8648",
   "metadata": {},
   "outputs": [],
   "source": [
    "(\n",
    "    nash_hosp_referers\n",
    "    .groupby(['display_name', 'hospital'])['transaction_count']\n",
    "    .sum()\n",
    "    .to_frame()\n",
    "    .reset_index()\n",
    "    .sort_values('transaction_count', ascending = False)\n",
    ")"
   ]
  },
  {
   "cell_type": "code",
   "execution_count": null,
   "id": "c2f68e73",
   "metadata": {},
   "outputs": [],
   "source": []
  }
 ],
 "metadata": {
  "kernelspec": {
   "display_name": "Python 3 (ipykernel)",
   "language": "python",
   "name": "python3"
  },
  "language_info": {
   "codemirror_mode": {
    "name": "ipython",
    "version": 3
   },
   "file_extension": ".py",
   "mimetype": "text/x-python",
   "name": "python",
   "nbconvert_exporter": "python",
   "pygments_lexer": "ipython3",
   "version": "3.9.12"
  }
 },
 "nbformat": 4,
 "nbformat_minor": 5
}
