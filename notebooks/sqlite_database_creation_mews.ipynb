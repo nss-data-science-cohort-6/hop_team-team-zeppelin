{
 "cells": [
  {
   "cell_type": "markdown",
   "id": "769ea5dc",
   "metadata": {},
   "source": [
    "## Import Libraries"
   ]
  },
  {
   "cell_type": "code",
   "execution_count": null,
   "id": "90bec2b7",
   "metadata": {},
   "outputs": [],
   "source": [
    "import pandas as pd\n",
    "import sqlite3\n",
    "from tqdm.notebook import tqdm\n",
    "import numpy as np"
   ]
  },
  {
   "cell_type": "markdown",
   "id": "30052ab2",
   "metadata": {},
   "source": [
    "## Hop Teaming Data"
   ]
  },
  {
   "cell_type": "code",
   "execution_count": null,
   "id": "f4082578",
   "metadata": {},
   "outputs": [],
   "source": [
    "hop_sample = pd.read_csv('../data/DocGraph_Hop_Teaming_2018.csv', nrows = 100000)"
   ]
  },
  {
   "cell_type": "code",
   "execution_count": null,
   "id": "d03267c0",
   "metadata": {
    "scrolled": true
   },
   "outputs": [],
   "source": [
    "hop_sample.info()"
   ]
  },
  {
   "cell_type": "code",
   "execution_count": null,
   "id": "70116ef7",
   "metadata": {
    "scrolled": false
   },
   "outputs": [],
   "source": [
    "#Playing with pre-filtering a bit\n",
    "hop_sample.loc[(hop_sample['transaction_count'] >= 25) & (hop_sample['average_day_wait'] < 90)]"
   ]
  },
  {
   "cell_type": "markdown",
   "id": "ada80b1d",
   "metadata": {},
   "source": [
    "# Create the hop_team SQLite database\n",
    "db = sqlite3.connect('../data/hop_team_db.sqlite')\n",
    "\n",
    "# create the referrals table and add it to the database\n",
    "for chunk in tqdm(pd.read_csv('../data/DocGraph_Hop_Teaming_2018.csv', chunksize = 10000)):\n",
    "    # Do some preemptive filtering for likely \"accidental\" referrals\n",
    "    chunk = chunk.loc[(chunk['transaction_count'] >= 25) & (chunk['average_day_wait'] < 90)]\n",
    "    # append to referrals table\n",
    "    chunk.to_sql('referrals', db, if_exists = 'append', index = False)            "
   ]
  },
  {
   "cell_type": "markdown",
   "id": "c089495b",
   "metadata": {},
   "source": [
    "## NPI/NPPES Data"
   ]
  },
  {
   "cell_type": "code",
   "execution_count": null,
   "id": "cdcdb7c0",
   "metadata": {},
   "outputs": [],
   "source": [
    "# list of columns needed for our project\n",
    "select_cols = ['NPI',\n",
    "               'Entity Type Code',\n",
    "               'Provider Organization Name (Legal Business Name)',\n",
    "               'Provider Last Name (Legal Name)',\n",
    "               'Provider First Name',\n",
    "               'Provider Middle Name',\n",
    "               'Provider Name Prefix Text',\n",
    "               'Provider Name Suffix Text',\n",
    "               'Provider Credential Text',\n",
    "               'Provider First Line Business Mailing Address',\n",
    "               'Provider Second Line Business Mailing Address',\n",
    "               'Provider Business Mailing Address City Name',\n",
    "               'Provider Business Mailing Address State Name',\n",
    "               'Provider Business Mailing Address Postal Code',\n",
    "               'Healthcare Provider Taxonomy Code_1', 'Healthcare Provider Primary Taxonomy Switch_1',\n",
    "               'Healthcare Provider Taxonomy Code_2', 'Healthcare Provider Primary Taxonomy Switch_2',\n",
    "               'Healthcare Provider Taxonomy Code_3', 'Healthcare Provider Primary Taxonomy Switch_3',\n",
    "               'Healthcare Provider Taxonomy Code_4', 'Healthcare Provider Primary Taxonomy Switch_4',\n",
    "               'Healthcare Provider Taxonomy Code_5', 'Healthcare Provider Primary Taxonomy Switch_5',\n",
    "               'Healthcare Provider Taxonomy Code_6', 'Healthcare Provider Primary Taxonomy Switch_6',\n",
    "               'Healthcare Provider Taxonomy Code_7', 'Healthcare Provider Primary Taxonomy Switch_7',\n",
    "               'Healthcare Provider Taxonomy Code_8', 'Healthcare Provider Primary Taxonomy Switch_8',\n",
    "               'Healthcare Provider Taxonomy Code_9', 'Healthcare Provider Primary Taxonomy Switch_9',\n",
    "               'Healthcare Provider Taxonomy Code_10', 'Healthcare Provider Primary Taxonomy Switch_10',\n",
    "               'Healthcare Provider Taxonomy Code_11', 'Healthcare Provider Primary Taxonomy Switch_11',\n",
    "               'Healthcare Provider Taxonomy Code_12', 'Healthcare Provider Primary Taxonomy Switch_12',\n",
    "               'Healthcare Provider Taxonomy Code_13', 'Healthcare Provider Primary Taxonomy Switch_13',\n",
    "               'Healthcare Provider Taxonomy Code_14', 'Healthcare Provider Primary Taxonomy Switch_14',\n",
    "               'Healthcare Provider Taxonomy Code_15', 'Healthcare Provider Primary Taxonomy Switch_15']"
   ]
  },
  {
   "cell_type": "code",
   "execution_count": null,
   "id": "3b7ff1c9",
   "metadata": {},
   "outputs": [],
   "source": [
    "# Pull a sample of the data to explore\n",
    "npi_sample = pd.read_csv('../data/npidata_pfile_20050523-20230212.csv',\n",
    "                         usecols = select_cols,\n",
    "                         skiprows = range(1, 600),\n",
    "                         nrows = 100000)"
   ]
  },
  {
   "cell_type": "code",
   "execution_count": null,
   "id": "fa4f0fa7",
   "metadata": {
    "scrolled": true
   },
   "outputs": [],
   "source": [
    "npi_sample.info()"
   ]
  },
  {
   "cell_type": "code",
   "execution_count": null,
   "id": "2ca8120d",
   "metadata": {
    "scrolled": true
   },
   "outputs": [],
   "source": [
    "# How many providers don't indicate a primary taxonomy code, designated by a value of 'X'?\n",
    "npi_sample['Healthcare Provider Primary Taxonomy Switch_1'].value_counts()\n",
    "# Based on looking at a few chunks, it appears to be around 4%"
   ]
  },
  {
   "cell_type": "code",
   "execution_count": null,
   "id": "e35d21e0",
   "metadata": {},
   "outputs": [],
   "source": [
    "# For providers that have indicated a primary taxonomy code, pull that code into a new column\n",
    "npi_sample['taxonomy_code'] = np.nan\n",
    "\n",
    "for n in range(1, 16):\n",
    "    x = str(n)\n",
    "    npi_sample.loc[npi_sample[f'Healthcare Provider Primary Taxonomy Switch_{x}'] == 'Y', \n",
    "                   'taxonomy_code'] = npi_sample[f'Healthcare Provider Taxonomy Code_{x}']"
   ]
  },
  {
   "cell_type": "code",
   "execution_count": null,
   "id": "25464d03",
   "metadata": {},
   "outputs": [],
   "source": [
    "# For providers that do not indicate a primary taxonomy code, pull the code from the first taxonomy column\n",
    "npi_sample.loc[npi_sample['taxonomy_code'].isna(), 'taxonomy_code'] = npi_sample['Healthcare Provider Taxonomy Code_1']"
   ]
  },
  {
   "cell_type": "code",
   "execution_count": null,
   "id": "29244e55",
   "metadata": {},
   "outputs": [],
   "source": [
    "npi_sample = npi_sample.drop(columns = ['Healthcare Provider Taxonomy Code_1', 'Healthcare Provider Primary Taxonomy Switch_1',\n",
    "                                  'Healthcare Provider Taxonomy Code_2', 'Healthcare Provider Primary Taxonomy Switch_2',\n",
    "                                  'Healthcare Provider Taxonomy Code_3', 'Healthcare Provider Primary Taxonomy Switch_3',\n",
    "                                  'Healthcare Provider Taxonomy Code_4', 'Healthcare Provider Primary Taxonomy Switch_4',\n",
    "                                  'Healthcare Provider Taxonomy Code_5', 'Healthcare Provider Primary Taxonomy Switch_5',\n",
    "                                  'Healthcare Provider Taxonomy Code_6', 'Healthcare Provider Primary Taxonomy Switch_6',\n",
    "                                  'Healthcare Provider Taxonomy Code_7', 'Healthcare Provider Primary Taxonomy Switch_7',\n",
    "                                  'Healthcare Provider Taxonomy Code_8', 'Healthcare Provider Primary Taxonomy Switch_8',\n",
    "                                  'Healthcare Provider Taxonomy Code_9', 'Healthcare Provider Primary Taxonomy Switch_9',\n",
    "                                  'Healthcare Provider Taxonomy Code_10', 'Healthcare Provider Primary Taxonomy Switch_10',\n",
    "                                  'Healthcare Provider Taxonomy Code_11', 'Healthcare Provider Primary Taxonomy Switch_11',\n",
    "                                  'Healthcare Provider Taxonomy Code_12', 'Healthcare Provider Primary Taxonomy Switch_12',\n",
    "                                  'Healthcare Provider Taxonomy Code_13', 'Healthcare Provider Primary Taxonomy Switch_13',\n",
    "                                  'Healthcare Provider Taxonomy Code_14', 'Healthcare Provider Primary Taxonomy Switch_14',\n",
    "                                  'Healthcare Provider Taxonomy Code_15', 'Healthcare Provider Primary Taxonomy Switch_15'])"
   ]
  },
  {
   "cell_type": "code",
   "execution_count": null,
   "id": "4e3657e8",
   "metadata": {},
   "outputs": [],
   "source": [
    "# Create a function to deal with the leading zeroes that are missing from zip codes\n",
    "\n",
    "def zip_zeroes(x):\n",
    "    if len(x) > 5:\n",
    "        return x.zfill(9)[:5]\n",
    "    elif len(x) > 0:\n",
    "        return x.zfill(5)\n",
    "    else: return np.nan"
   ]
  },
  {
   "cell_type": "code",
   "execution_count": null,
   "id": "75e31ed5",
   "metadata": {
    "scrolled": false
   },
   "outputs": [],
   "source": [
    "npi_sample['Provider Business Mailing Address Postal Code'] = npi_sample['Provider Business Mailing Address Postal Code'].astype(str).apply(zip_zeroes)"
   ]
  },
  {
   "cell_type": "code",
   "execution_count": null,
   "id": "d892e2ba",
   "metadata": {},
   "outputs": [],
   "source": [
    "npi_sample.columns = [x.lower()\n",
    "                     .replace('provider ', '')\n",
    "                     .replace('business ', '')\n",
    "                     .replace(' text', '')\n",
    "                     .replace(' (legal name)', '')\n",
    "                     .replace(' ', '_') for x in npi_sample.columns] "
   ]
  },
  {
   "cell_type": "code",
   "execution_count": null,
   "id": "fa95951f",
   "metadata": {},
   "outputs": [],
   "source": [
    "npi_sample"
   ]
  },
  {
   "cell_type": "markdown",
   "id": "363375e1",
   "metadata": {},
   "source": [
    "# create the providers table from npi/nppes data and add it to the database\n",
    "for chunk in tqdm(pd.read_csv('../data/npidata_pfile_20050523-20230212.csv', \n",
    "                              usecols = select_cols,\n",
    "                              chunksize = 10000,\n",
    "                              low_memory = False)):\n",
    "    \n",
    "    # For providers that have indicated a primary taxonomy code, pull that code into a new column\n",
    "    chunk['taxonomy_code'] = np.nan\n",
    "    for n in range(1, 16):\n",
    "        x = str(n)\n",
    "        chunk.loc[chunk[f'Healthcare Provider Primary Taxonomy Switch_{x}'] == 'Y', \n",
    "                       'taxonomy_code'] = chunk[f'Healthcare Provider Taxonomy Code_{x}']\n",
    "        \n",
    "    # For providers that do not indicate a primary taxonomy code, pull the code from the first taxonomy column\n",
    "    chunk.loc[chunk['taxonomy_code'].isna(), 'taxonomy_code'] = chunk['Healthcare Provider Taxonomy Code_1']\n",
    "    \n",
    "    # Drop the columns no longer needed\n",
    "    chunk = chunk.drop(columns = ['Healthcare Provider Taxonomy Code_1', 'Healthcare Provider Primary Taxonomy Switch_1',\n",
    "                                  'Healthcare Provider Taxonomy Code_2', 'Healthcare Provider Primary Taxonomy Switch_2',\n",
    "                                  'Healthcare Provider Taxonomy Code_3', 'Healthcare Provider Primary Taxonomy Switch_3',\n",
    "                                  'Healthcare Provider Taxonomy Code_4', 'Healthcare Provider Primary Taxonomy Switch_4',\n",
    "                                  'Healthcare Provider Taxonomy Code_5', 'Healthcare Provider Primary Taxonomy Switch_5',\n",
    "                                  'Healthcare Provider Taxonomy Code_6', 'Healthcare Provider Primary Taxonomy Switch_6',\n",
    "                                  'Healthcare Provider Taxonomy Code_7', 'Healthcare Provider Primary Taxonomy Switch_7',\n",
    "                                  'Healthcare Provider Taxonomy Code_8', 'Healthcare Provider Primary Taxonomy Switch_8',\n",
    "                                  'Healthcare Provider Taxonomy Code_9', 'Healthcare Provider Primary Taxonomy Switch_9',\n",
    "                                  'Healthcare Provider Taxonomy Code_10', 'Healthcare Provider Primary Taxonomy Switch_10',\n",
    "                                  'Healthcare Provider Taxonomy Code_11', 'Healthcare Provider Primary Taxonomy Switch_11',\n",
    "                                  'Healthcare Provider Taxonomy Code_12', 'Healthcare Provider Primary Taxonomy Switch_12',\n",
    "                                  'Healthcare Provider Taxonomy Code_13', 'Healthcare Provider Primary Taxonomy Switch_13',\n",
    "                                  'Healthcare Provider Taxonomy Code_14', 'Healthcare Provider Primary Taxonomy Switch_14',\n",
    "                                  'Healthcare Provider Taxonomy Code_15', 'Healthcare Provider Primary Taxonomy Switch_15'])\n",
    "     \n",
    "    #clean up zip code column by putting missing leading zeroes back and getting the 9-digit entries down to 5\n",
    "    chunk['Provider Business Mailing Address Postal Code'] = chunk['Provider Business Mailing Address Postal Code'].astype(str).apply(zip_zeroes)\n",
    "    \n",
    "    # Clean up the column names\n",
    "    chunk.columns = [x.lower()\n",
    "                     .replace('provider ', '')\n",
    "                     .replace('business ', '')\n",
    "                     .replace(' text', '')\n",
    "                     .replace(' (legal name)', '')\n",
    "                     .replace(' ', '_') for x in chunk.columns]                  \n",
    "   \n",
    "    # append to provider table\n",
    "    chunk.to_sql('provider', db, if_exists = 'append', index = False)            "
   ]
  },
  {
   "cell_type": "markdown",
   "id": "9dbb49b5",
   "metadata": {},
   "source": [
    "## Taxonomy Details"
   ]
  },
  {
   "cell_type": "code",
   "execution_count": null,
   "id": "5343e388",
   "metadata": {
    "scrolled": true
   },
   "outputs": [],
   "source": [
    "tax_deets = pd.read_csv('../data/nucc_taxonomy_230.csv')"
   ]
  },
  {
   "cell_type": "code",
   "execution_count": null,
   "id": "b3ca234d",
   "metadata": {},
   "outputs": [],
   "source": [
    "tax_deets.info()"
   ]
  },
  {
   "cell_type": "code",
   "execution_count": null,
   "id": "2a1e30e3",
   "metadata": {},
   "outputs": [],
   "source": [
    "# make column names consistent with formatting of other tables\n",
    "tax_deets.columns = [x.lower()\n",
    "                     .replace(' ', '_') for x in tax_deets.columns]\n",
    "# make the taxonomy code column name match the taxonomy code column name in the provider table\n",
    "tax_deets = tax_deets.rename(columns = {'code' : 'taxonomy_code'})"
   ]
  },
  {
   "cell_type": "code",
   "execution_count": null,
   "id": "8ff244c2",
   "metadata": {},
   "outputs": [],
   "source": [
    "tax_deets"
   ]
  },
  {
   "cell_type": "markdown",
   "id": "345c5f27",
   "metadata": {},
   "source": [
    "# create the taxonomy table and add it to the database\n",
    "tax_deets.to_sql('taxonomy', db, if_exists = 'append', index = False)"
   ]
  },
  {
   "cell_type": "markdown",
   "id": "99e24c97",
   "metadata": {},
   "source": [
    "## Zip Code/CBSA Date"
   ]
  },
  {
   "cell_type": "code",
   "execution_count": null,
   "id": "aaa4f302",
   "metadata": {},
   "outputs": [],
   "source": [
    "zip_cbsa = pd.read_excel('../data/ZIP_CBSA_122021.xlsx')"
   ]
  },
  {
   "cell_type": "code",
   "execution_count": null,
   "id": "39d60072",
   "metadata": {},
   "outputs": [],
   "source": [
    "zip_cbsa.info()"
   ]
  },
  {
   "cell_type": "code",
   "execution_count": null,
   "id": "7c79a09d",
   "metadata": {},
   "outputs": [],
   "source": [
    "#simplify column names\n",
    "zip_cbsa = zip_cbsa.rename(columns = {'usps_zip_pref_city' : 'city',\n",
    "                              'usps_zip_pref_state' : 'state'})\n",
    "\n",
    "#get the leading zeroes back in place\n",
    "zip_cbsa['zip'] = zip_cbsa['zip'].astype(str).str.zfill(5)"
   ]
  },
  {
   "cell_type": "code",
   "execution_count": null,
   "id": "ae2b069b",
   "metadata": {},
   "outputs": [],
   "source": [
    "zip_cbsa.info()"
   ]
  },
  {
   "cell_type": "markdown",
   "id": "0dff79d9",
   "metadata": {},
   "source": [
    "# create the zip_cbsa table and add it to the database\n",
    "zip_cbsa.to_sql('zip_cbsa', db, if_exists = 'append', index = False)"
   ]
  },
  {
   "cell_type": "code",
   "execution_count": null,
   "id": "cd9dd9a7",
   "metadata": {},
   "outputs": [],
   "source": [
    "# db.close()"
   ]
  },
  {
   "cell_type": "code",
   "execution_count": null,
   "id": "0edf7921",
   "metadata": {},
   "outputs": [],
   "source": []
  }
 ],
 "metadata": {
  "kernelspec": {
   "display_name": "Python 3 (ipykernel)",
   "language": "python",
   "name": "python3"
  },
  "language_info": {
   "codemirror_mode": {
    "name": "ipython",
    "version": 3
   },
   "file_extension": ".py",
   "mimetype": "text/x-python",
   "name": "python",
   "nbconvert_exporter": "python",
   "pygments_lexer": "ipython3",
   "version": "3.9.12"
  }
 },
 "nbformat": 4,
 "nbformat_minor": 5
}
